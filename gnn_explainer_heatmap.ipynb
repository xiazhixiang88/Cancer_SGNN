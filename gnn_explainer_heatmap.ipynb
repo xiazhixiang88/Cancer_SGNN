{
 "cells": [
  {
   "cell_type": "code",
   "execution_count": null,
   "metadata": {},
   "outputs": [],
   "source": [
    "import sys\n",
    "import os\n",
    "current_dir = os.path.abspath(os.getcwd())\n",
    "sgmf_dir = os.path.abspath(os.path.join(current_dir, '..', 'SGMF-main'))\n",
    "\n",
    "if sgmf_dir not in sys.path:\n",
    "    sys.path.insert(0, sgmf_dir)\n",
    "\n",
    "from wsi_core.WholeSlideImage import WholeSlideImage\n",
    "\n",
    "from scipy.stats import percentileofscore\n",
    "import math\n",
    "from utils.file_utils import save_hdf5\n",
    "from scipy.stats import percentileofscore\n",
    "from utils.utils import *\n",
    "import h5py\n",
    "import torch\n",
    "import numpy as np\n",
    "import pandas as pd\n",
    "\n",
    "from torch_geometric.nn import GCNConv\n",
    "from torch_geometric.explain import Explainer, GNNExplainer\n",
    "from torch_geometric.explain.config import ModelConfig, ExplanationType\n",
    "from torch_geometric.typing import NodeType\n",
    "from torch_geometric.data import Data\n",
    "from globals import *\n",
    "from utils_local import ordered_yaml\n",
    "import yaml\n",
    "from parser import parse_gnn_model\n",
    "import openslide\n",
    "import random\n",
    "import matplotlib.pyplot as plt"
   ]
  },
  {
   "cell_type": "code",
   "execution_count": null,
   "metadata": {},
   "outputs": [],
   "source": [
    "\n",
    "seed = 42\n",
    "torch.manual_seed(seed)\n",
    "torch.cuda.manual_seed(seed)\n",
    "torch.cuda.manual_seed_all(seed)\n",
    "np.random.seed(seed)\n",
    "random.seed(seed)\n",
    "\n",
    "torch.backends.cudnn.deterministic = True\n",
    "torch.backends.cudnn.benchmark = False"
   ]
  },
  {
   "cell_type": "code",
   "execution_count": null,
   "metadata": {},
   "outputs": [],
   "source": [
    "def drawHeatmap(scores, coords, slide_path=None, wsi_object=None, vis_level=-1, top_n=15, **kwargs):\n",
    "    if wsi_object is None:\n",
    "        wsi_object = WholeSlideImage(slide_path)\n",
    "        print(wsi_object.name)\n",
    "    wsi = wsi_object.getOpenSlide()\n",
    "    if vis_level < 0:\n",
    "        vis_level = wsi.get_best_level_for_downsample(32)\n",
    "    if isinstance(scores, torch.Tensor):\n",
    "        scores = scores.cpu().numpy()\n",
    "    else:\n",
    "        scores = np.array(scores)\n",
    "    heatmap = wsi_object.visHeatmap(scores, coords, vis_level=vis_level, **kwargs)\n",
    "    return heatmap\n"
   ]
  },
  {
   "cell_type": "code",
   "execution_count": null,
   "metadata": {},
   "outputs": [],
   "source": [
    "def weight_coord(graph_path, model):\n",
    "    data = torch.load(graph_path).to(device)\n",
    "    x = data['x']\n",
    "    edge_index = data['edge_latent']\n",
    "    coord = data['centroid']\n",
    "    explainer = GNNExplainer(epochs=1000, lr=0.001, )\n",
    "    explainer_config = {\n",
    "        'explanation_type': ExplanationType.model,\n",
    "        'node_mask_type': 'object',\n",
    "        'edge_mask_type': None\n",
    "    }\n",
    "    model_config = ModelConfig(mode='regression', task_level='graph', return_type='raw')\n",
    "    explainer.connect(explainer_config, model_config)\n",
    "    prediction = model(data)\n",
    "    explanation = explainer.forward(model=model, x=x, edge_index=edge_index, target=prediction)\n",
    "    node_weight = explanation.node_mask.view(-1)\n",
    "    node_weight = node_weight.cpu().numpy()\n",
    "    print(node_weight.max(), node_weight.min())\n",
    "    node_weight = ((node_weight - node_weight.min()) / (node_weight.max() - node_weight.min()) - 0.5) * 2\n",
    "    node_weight = node_weight**(1/3)\n",
    "    print(node_weight.max(), node_weight.min())\n",
    "    return node_weight, coord.cpu().numpy()\n",
    "\n",
    "device = torch.device(\"cuda\" if torch.cuda.is_available() else \"cpu\")\n",
    "default_config_path = \"training_config/survival_analysis.yml\"\n",
    "opt_path = CONFIG_DIR / default_config_path\n",
    "with open(opt_path, mode='r') as f:\n",
    "    loader, _ = ordered_yaml()\n",
    "    config = yaml.load(f, loader)\n",
    "    print(f\"Loaded configs from {opt_path}\")\n",
    "model = parse_gnn_model(config[\"GNN\"]).to(device)\n",
    "\n",
    "slide_id = \"B201714220-22\"\n",
    "\n",
    "fold_num = 4\n",
    "fold_id = 0\n",
    "seed = 42\n",
    "for i in range(1, fold_num+1):\n",
    "    test_fold = pd.read_csv(f'data/test_results/level1/slide_num148/fold_num_4/test_fold/test_results_seed{seed}_fold_{i}.csv')\n",
    "    if slide_id in test_fold['slide_id'].values:\n",
    "        fold_id = i\n",
    "        print(f\"{slide_id}: {fold_id}\")\n",
    "        break\n",
    "\n",
    "state_dict = torch.load(f'data/model_save/level1/best_model_fold_{fold_id}_seed83.pt')\n",
    "model.load_state_dict(state_dict)\n",
    "model.eval()\n",
    "\n",
    "level = \"_level1\"\n",
    "# level = \"\"\n",
    "graph_path = f\"data/create_save{level}/graph_files/{slide_id}.pt\"\n",
    "slide_path = f\"data/WSI_svs/SUR/{slide_id}.svs\"\n",
    "node_weight, coord = weight_coord(graph_path, model)\n"
   ]
  },
  {
   "cell_type": "code",
   "execution_count": null,
   "metadata": {},
   "outputs": [],
   "source": [
    "model"
   ]
  },
  {
   "cell_type": "code",
   "execution_count": null,
   "metadata": {},
   "outputs": [],
   "source": [
    "patch_size = 3000\n",
    "heatmap_args = {\n",
    "    'vis_level' : 3,\n",
    "    'cmap': 'coolwarm',\n",
    "    'blank_canvas' : False ,\n",
    "    'blur' : False ,\n",
    "    'binarize' : False ,\n",
    "    'custom_downsample' : 1 ,\n",
    "    'alpha': 0.9,\n",
    "    'patch_size': (patch_size, patch_size), \n",
    "    # 'convert_to_percentiles': True, \n",
    "    # 'binarize': False\n",
    "}\n",
    "heatmap = drawHeatmap(node_weight, coord, slide_path, **heatmap_args)"
   ]
  },
  {
   "cell_type": "code",
   "execution_count": null,
   "metadata": {},
   "outputs": [],
   "source": [
    "heatmap"
   ]
  },
  {
   "cell_type": "code",
   "execution_count": null,
   "metadata": {},
   "outputs": [],
   "source": [
    "slide = openslide.open_slide(slide_path)\n",
    "\n",
    "def vis_region(rank_num, slide=slide, patch_size=1024):\n",
    "    node_weight[np.isnan(node_weight)] = 0\n",
    "    # coord[np.isnan(node_weight)] = 0\n",
    "    sorted_indices = np.argsort(node_weight)[::-1]\n",
    "    if rank_num > 0:\n",
    "        idx = sorted_indices[rank_num - 1]\n",
    "    elif rank_num < 0:\n",
    "        idx = sorted_indices[len(node_weight) + rank_num]\n",
    "    coord_selected = tuple(coord[idx].astype(int))\n",
    "    \n",
    "    patch = slide.read_region(coord_selected, 0, (patch_size, patch_size))\n",
    "    patch = patch.convert(\"RGB\")\n",
    "    plt.imshow(patch)\n",
    "    plt.axis('off')\n",
    "    plt.show()\n",
    "    \n",
    "def vis_region_with_box(rank_num, slide=slide, patch_size=1024, display_level=2):\n",
    "    node_weight[np.isnan(node_weight)] = 0\n",
    "    # coord[np.isnan(node_weight)] = 0\n",
    "    sorted_indices = np.argsort(node_weight)[::-1]\n",
    "    if rank_num > 0:\n",
    "        idx = sorted_indices[rank_num - 1]\n",
    "    elif rank_num < 0:\n",
    "        idx = sorted_indices[len(node_weight) + rank_num]\n",
    "    coord_selected = tuple(coord[idx].astype(int))\n",
    "    level = min(display_level, slide.level_count - 1)\n",
    "    downsample = slide.level_downsamples[level]\n",
    "    scaled_x = int(coord_selected[0] / downsample)\n",
    "    scaled_y = int(coord_selected[1] / downsample)\n",
    "    scaled_patch_size = int(patch_size / downsample)\n",
    "    wsi_image = slide.read_region((0, 0), level, slide.level_dimensions[level])\n",
    "    wsi_image = wsi_image.convert(\"RGB\")\n",
    "    fig, ax = plt.subplots(figsize=(10, 10))\n",
    "    ax.imshow(wsi_image)\n",
    "    rect = plt.Rectangle(\n",
    "        (scaled_x, scaled_y), \n",
    "        scaled_patch_size, \n",
    "        scaled_patch_size,\n",
    "        linewidth=20 * (1 / downsample),\n",
    "        edgecolor='red', \n",
    "        facecolor='none', \n",
    "        linestyle='--'\n",
    "    )\n",
    "    ax.add_patch(rect)\n",
    "    ax.set_title(f\"Region of Rank {rank_num} (Level {level}, Downsample={downsample:.1f}x)\")\n",
    "    plt.axis('off')\n",
    "    plt.show()"
   ]
  },
  {
   "cell_type": "code",
   "execution_count": null,
   "metadata": {},
   "outputs": [],
   "source": [
    "for i in range(3):\n",
    "    vis_region(i+1)\n",
    "for i in range(3):\n",
    "    vis_region(-i-1)"
   ]
  },
  {
   "cell_type": "code",
   "execution_count": null,
   "metadata": {},
   "outputs": [],
   "source": [
    "# vis_region(1)\n",
    "# vis_region_with_box(1)"
   ]
  },
  {
   "cell_type": "code",
   "execution_count": null,
   "metadata": {},
   "outputs": [],
   "source": [
    "# vis_region(2)\n",
    "# vis_region_with_box(2)"
   ]
  },
  {
   "cell_type": "code",
   "execution_count": null,
   "metadata": {},
   "outputs": [],
   "source": [
    "def save_region(rank_num, pacth_name, slide=slide, patch_size=1024, save_path=f\"/homeuser/home/xiazhixiang/CONCH/docs/{slide_id}\"):\n",
    "    node_weight[np.isnan(node_weight)] = 0\n",
    "    # coord[np.isnan(node_weight)] = 0\n",
    "    sorted_indices = np.argsort(node_weight)[::-1]\n",
    "    if rank_num > 0:\n",
    "        idx = sorted_indices[rank_num - 1]\n",
    "    elif rank_num < 0:\n",
    "        idx = sorted_indices[len(node_weight) + rank_num]\n",
    "    coord_selected = tuple(coord[idx].astype(int))\n",
    "    \n",
    "    patch = slide.read_region(coord_selected, 0, (patch_size, patch_size))\n",
    "    patch = patch.convert(\"RGB\")\n",
    "    os.makedirs(save_path, exist_ok=True)\n",
    "    patch.save(save_path+\"/\"+pacth_name, \"JPEG\")"
   ]
  },
  {
   "cell_type": "code",
   "execution_count": null,
   "metadata": {},
   "outputs": [],
   "source": [
    "for rank_num in range(1, 10):\n",
    "    save_region(rank_num, f\"rank_{rank_num}.jpg\")"
   ]
  },
  {
   "cell_type": "code",
   "execution_count": null,
   "metadata": {},
   "outputs": [],
   "source": []
  }
 ],
 "metadata": {
  "kernelspec": {
   "display_name": "Python 3",
   "language": "python",
   "name": "python3"
  },
  "language_info": {
   "codemirror_mode": {
    "name": "ipython",
    "version": 3
   },
   "file_extension": ".py",
   "mimetype": "text/x-python",
   "name": "python",
   "nbconvert_exporter": "python",
   "pygments_lexer": "ipython3",
   "version": "3.10.13"
  }
 },
 "nbformat": 4,
 "nbformat_minor": 2
}
